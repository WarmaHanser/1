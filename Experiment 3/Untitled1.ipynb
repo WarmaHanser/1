{
 "cells": [
  {
   "cell_type": "code",
   "execution_count": 2,
   "id": "fc1fb933-e381-4d14-9b62-bc8451c9cc16",
   "metadata": {},
   "outputs": [],
   "source": [
    "def selection_sort(arr):\n",
    "    # 遍历数组的所有元素\n",
    "    for i in range(len(arr)):\n",
    "        # 找到剩余未排序部分的最小元素的索引\n",
    "        min_idx = i\n",
    "        for j in range(i+1, len(arr)):\n",
    "            if arr[j] < arr[min_idx]:\n",
    "                min_idx = j\n",
    "        # 交换当前元素和找到的最小元素\n",
    "        arr[i], arr[min_idx] = arr[min_idx], arr[i]\n",
    "    return arr\n",
    "\n"
   ]
  },
  {
   "cell_type": "code",
   "execution_count": 3,
   "id": "f49ec665-f7bf-43d3-970f-65a9f80109b1",
   "metadata": {},
   "outputs": [
    {
     "name": "stdin",
     "output_type": "stream",
     "text": [
      "请输入一组数字，用空格分隔:  34 7 23 32 5 62\n"
     ]
    },
    {
     "name": "stdout",
     "output_type": "stream",
     "text": [
      "排序后的结果:  [5, 7, 23, 32, 34, 62]\n"
     ]
    }
   ],
   "source": [
    "\n",
    "def test():\n",
    "    # 输入数据\n",
    "    input_data = input(\"请输入一组数字，用空格分隔: \")\n",
    "    # 将输入的字符串转换为整数列表\n",
    "    arr = list(map(int, input_data.split()))\n",
    "    # 调用 selection_sort 函数进行排序\n",
    "    sorted_arr = selection_sort(arr)\n",
    "    # 输出排序结果\n",
    "    print(\"排序后的结果: \", sorted_arr)\n",
    "\n",
    "# 调用测试函数\n",
    "test()\n"
   ]
  },
  {
   "cell_type": "code",
   "execution_count": null,
   "id": "c71eb866-68ab-454a-b2d4-32a8adfc5e0c",
   "metadata": {},
   "outputs": [],
   "source": []
  }
 ],
 "metadata": {
  "kernelspec": {
   "display_name": "Python 3 (ipykernel)",
   "language": "python",
   "name": "python3"
  },
  "language_info": {
   "codemirror_mode": {
    "name": "ipython",
    "version": 3
   },
   "file_extension": ".py",
   "mimetype": "text/x-python",
   "name": "python",
   "nbconvert_exporter": "python",
   "pygments_lexer": "ipython3",
   "version": "3.11.7"
  }
 },
 "nbformat": 4,
 "nbformat_minor": 5
}
